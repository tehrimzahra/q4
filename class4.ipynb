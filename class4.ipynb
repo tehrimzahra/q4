{
 "cells": [
  {
   "cell_type": "code",
   "execution_count": null,
   "metadata": {},
   "outputs": [],
   "source": []
  },
  {
   "cell_type": "code",
   "execution_count": 1,
   "metadata": {},
   "outputs": [
    {
     "name": "stdout",
     "output_type": "stream",
     "text": [
      "Index of 'fox': 16\n",
      "Occurrences of 'the': 3\n"
     ]
    }
   ],
   "source": [
    "s = \"The quick brown fox jumps over the lazy dog. The fox is clever.\"\n",
    "index_of_fox = s.find(\"fox\")\n",
    "print(f\"Index of 'fox': {index_of_fox}\")\n",
    "count_the = s.lower().count(\"the\")\n",
    "print(f\"Occurrences of 'the': {count_the}\")\n"
   ]
  }
 ],
 "metadata": {
  "kernelspec": {
   "display_name": "Python 3",
   "language": "python",
   "name": "python3"
  },
  "language_info": {
   "codemirror_mode": {
    "name": "ipython",
    "version": 3
   },
   "file_extension": ".py",
   "mimetype": "text/x-python",
   "name": "python",
   "nbconvert_exporter": "python",
   "pygments_lexer": "ipython3",
   "version": "3.12.4"
  }
 },
 "nbformat": 4,
 "nbformat_minor": 2
}
